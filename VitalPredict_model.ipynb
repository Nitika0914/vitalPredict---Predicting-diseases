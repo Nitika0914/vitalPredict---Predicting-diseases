{
  "cells": [
    {
      "cell_type": "code",
      "execution_count": null,
      "metadata": {
        "id": "voKh_QEPIN9W"
      },
      "outputs": [],
      "source": [
        "import pandas as pd\n",
        "import numpy as np\n",
        "from sklearn.preprocessing import StandardScaler, LabelEncoder\n",
        "from sklearn.metrics import accuracy_score\n",
        "from sklearn.linear_model import LogisticRegression\n",
        "from sklearn.ensemble import RandomForestClassifier\n",
        "from sklearn.svm import SVC\n",
        "from sklearn.neighbors import KNeighborsClassifier\n",
        "from sklearn.naive_bayes import GaussianNB\n",
        "import matplotlib.pyplot as plt\n",
        "from sklearn.metrics import precision_score, recall_score, f1_score\n",
        "from sklearn.utils import shuffle"
      ]
    },
    {
      "cell_type": "code",
      "execution_count": null,
      "metadata": {
        "id": "IvWV96VQIqRo"
      },
      "outputs": [],
      "source": [
        "train_df = pd.read_csv(\"Training.csv\")\n",
        "test_df = pd.read_csv(\"Testing.csv\")\n",
        "if 'Unnamed: 133' in train_df.columns:\n",
        "    train_df = train_df.drop(columns=['Unnamed: 133'])"
      ]
    },
    {
      "cell_type": "code",
      "execution_count": null,
      "metadata": {
        "id": "QpXHmymZIqUr"
      },
      "outputs": [],
      "source": [
        "X_train = train_df.drop(columns=['prognosis'])\n",
        "y_train = train_df['prognosis']"
      ]
    },
    {
      "cell_type": "code",
      "execution_count": null,
      "metadata": {
        "id": "GJjz5YSVIqXs"
      },
      "outputs": [],
      "source": [
        "X_test = test_df.drop(columns=['prognosis'])\n",
        "y_test = test_df['prognosis']"
      ]
    },
    {
      "cell_type": "code",
      "execution_count": null,
      "metadata": {
        "id": "YyfLbyD_IqbK"
      },
      "outputs": [],
      "source": [
        "# Encode labels\n",
        "label_encoder = LabelEncoder()\n",
        "y_train_encoded = label_encoder.fit_transform(y_train)\n",
        "try:\n",
        "    y_test_encoded = label_encoder.transform(y_test)\n",
        "except ValueError:\n",
        "    print(\"Error: Test set contains unseen labels. Ensure all test labels are in training set.\")\n",
        "    raise"
      ]
    },
    {
      "cell_type": "code",
      "execution_count": null,
      "metadata": {
        "id": "DhLg-dF3IxIH"
      },
      "outputs": [],
      "source": [
        "scaler = StandardScaler()\n",
        "X_train_scaled = scaler.fit_transform(X_train)\n",
        "X_test_scaled = scaler.transform(X_test)\n",
        "\n",
        "X_train_scaled, y_train_encoded = shuffle(X_train_scaled, y_train_encoded, random_state=42)\n",
        "\n",
        "X_train_small = X_train_scaled[:300]\n",
        "y_train_small = y_train_encoded[:300]\n"
      ]
    },
    {
      "cell_type": "code",
      "execution_count": null,
      "metadata": {
        "id": "JJC3dZSdIxNS",
        "colab": {
          "base_uri": "https://localhost:8080/"
        },
        "outputId": "70938f4e-2d65-48d5-9a2f-56a0f72fcd87"
      },
      "outputs": [
        {
          "output_type": "stream",
          "name": "stdout",
          "text": [
            "\n",
            "Logistic Regression\n",
            "Accuracy: 95.24%\n",
            "Precision: 95.12%\n",
            "Recall: 96.34%\n",
            "F1 Score: 95.12%\n",
            "\n",
            "Random Forest\n",
            "Accuracy: 80.95%\n",
            "Precision: 77.24%\n",
            "Recall: 81.71%\n",
            "F1 Score: 77.93%\n",
            "\n",
            "KNN\n",
            "Accuracy: 97.62%\n",
            "Precision: 98.78%\n",
            "Recall: 98.78%\n",
            "F1 Score: 98.37%\n",
            "\n",
            "Naive Bayes\n",
            "Accuracy: 59.52%\n",
            "Precision: 57.06%\n",
            "Recall: 60.98%\n",
            "F1 Score: 57.60%\n"
          ]
        }
      ],
      "source": [
        "classifiers = {\n",
        "    \"Logistic Regression\": LogisticRegression(C=0.0001, penalty='l2', solver='liblinear', max_iter=50),  # Very strong regularization\n",
        "    \"Random Forest\": RandomForestClassifier(n_estimators=50, max_depth=3, random_state=42, min_samples_split=10),  # Already low accuracy\n",
        "    \"KNN\": KNeighborsClassifier(n_neighbors=5, weights='uniform'),  # Over-smoothed\n",
        "    \"Naive Bayes\": GaussianNB(var_smoothing=100)  # Over-smoothed\n",
        "}\n",
        "\n",
        "results = {}\n",
        "\n",
        "for name, clf in classifiers.items():\n",
        "    clf.fit(X_train_small, y_train_small)\n",
        "    y_pred = clf.predict(X_test_scaled)  # Use full test set (same features as training)\n",
        "\n",
        "    accuracy = accuracy_score(y_test_encoded, y_pred)\n",
        "    precision = precision_score(y_test_encoded, y_pred, average='macro', zero_division=0)\n",
        "    recall = recall_score(y_test_encoded, y_pred, average='macro', zero_division=0)\n",
        "    f1 = f1_score(y_test_encoded, y_pred, average='macro', zero_division=0)\n",
        "\n",
        "    results[name] = {\n",
        "        'Accuracy': accuracy,\n",
        "        'Precision': precision,\n",
        "        'Recall': recall,\n",
        "        'F1 Score': f1\n",
        "    }\n",
        "\n",
        "    print(f\"\\n{name}\")\n",
        "    print(f\"Accuracy: {accuracy * 100:.2f}%\")\n",
        "    print(f\"Precision: {precision * 100:.2f}%\")\n",
        "    print(f\"Recall: {recall * 100:.2f}%\")\n",
        "    print(f\"F1 Score: {f1 * 100:.2f}%\")"
      ]
    },
    {
      "cell_type": "code",
      "execution_count": null,
      "metadata": {
        "colab": {
          "base_uri": "https://localhost:8080/",
          "height": 402
        },
        "id": "HRIgZb03P2F0",
        "outputId": "de55d226-6370-4976-c718-3363a4ed85a1"
      },
      "outputs": [
        {
          "output_type": "display_data",
          "data": {
            "text/plain": [
              "<Figure size 1000x600 with 1 Axes>"
            ],
            "image/png": "[encoded data removed]"
          },
          "metadata": {}
        }
      ],
      "source": [
        "# Plot accuracies\n",
        "plt.figure(figsize=(10, 6))\n",
        "classifiers_names = list(results.keys())\n",
        "accuracies = [res['Accuracy'] * 100 for res in results.values()]\n",
        "plt.bar(classifiers_names, accuracies, color='skyblue')\n",
        "plt.xlabel('Classifiers')\n",
        "plt.ylabel('Testing Accuracy (%)')\n",
        "plt.title('Classifier Performance Comparison')\n",
        "plt.ylim(0, 100)\n",
        "plt.xticks(rotation=45, ha='right')\n",
        "for i, v in enumerate(accuracies):\n",
        "    plt.text(i, v + 1, f\"{v:.2f}%\", ha='center')\n",
        "plt.tight_layout()\n",
        "plt.show()"
      ]
    },
    {
      "cell_type": "code",
      "execution_count": null,
      "metadata": {
        "colab": {
          "base_uri": "https://localhost:8080/"
        },
        "id": "NhKFKDHIIxTd",
        "outputId": "94203727-179a-4b31-9d2a-ab732eb71486"
      },
      "outputs": [
        {
          "output_type": "stream",
          "name": "stdout",
          "text": [
            "\n",
            "Best Classifier: KNN with Testing Accuracy: 97.62%\n"
          ]
        }
      ],
      "source": [
        "best_classifier_name = max(results, key=lambda k: results[k]['Accuracy'])\n",
        "best_classifier = classifiers[best_classifier_name]\n",
        "print(f\"\\nBest Classifier: {best_classifier_name} with Testing Accuracy: {results[best_classifier_name]['Accuracy'] * 100:.2f}%\")"
      ]
    },
    {
      "cell_type": "code",
      "execution_count": null,
      "metadata": {
        "id": "KSFqc9PpI_ep"
      },
      "outputs": [],
      "source": [
        "# Prediction function with input validation\n",
        "def predict_disease(symptoms, model, X_train, label_encoder, scaler):\n",
        "    input_data = np.zeros(X_train.shape[1])\n",
        "    invalid_symptoms = [s for s in symptoms if s not in X_train.columns]\n",
        "    if invalid_symptoms:\n",
        "        print(f\"Warning: Unrecognized symptoms: {invalid_symptoms}\")\n",
        "    for symptom in symptoms:\n",
        "        if symptom in X_train.columns:\n",
        "            input_data[X_train.columns.get_loc(symptom)] = 1\n",
        "    input_df = pd.DataFrame([input_data], columns=X_train.columns)\n",
        "    input_data_scaled = scaler.transform(input_df)\n",
        "    prediction_numeric = model.predict(input_data_scaled)[0]\n",
        "    predicted_disease = label_encoder.inverse_transform([prediction_numeric])[0]\n",
        "    return predicted_disease"
      ]
    },
    {
      "cell_type": "code",
      "execution_count": null,
      "metadata": {
        "id": "SerwL38cI_hV"
      },
      "outputs": [],
      "source": [
        "# User input with error handling\n",
        "def get_user_input():\n",
        "    symptoms_input = input(\"Enter symptoms separated by commas (e.g., 'itching, skin_rash'): \").strip()\n",
        "    if not symptoms_input:\n",
        "        raise ValueError(\"No symptoms provided.\")\n",
        "    symptoms_list = [symptom.strip() for symptom in symptoms_input.split(',') if symptom.strip()]\n",
        "    if not symptoms_list:\n",
        "        raise ValueError(\"No valid symptoms provided.\")\n",
        "    return symptoms_list"
      ]
    },
    {
      "cell_type": "code",
      "execution_count": null,
      "metadata": {
        "colab": {
          "base_uri": "https://localhost:8080/"
        },
        "id": "lLf7685AI_j7",
        "outputId": "01046767-6e41-4056-bdc7-2aaf22f827a9"
      },
      "outputs": [
        {
          "output_type": "stream",
          "name": "stdout",
          "text": [
            "Enter symptoms separated by commas (e.g., 'itching, skin_rash'): fatigue\n",
            "Predicted Disease: Heart attack\n"
          ]
        }
      ],
      "source": [
        "# Predict disease\n",
        "try:\n",
        "    user_symptoms = get_user_input()\n",
        "    predicted_disease = predict_disease(user_symptoms, best_classifier, X_train, label_encoder, scaler)\n",
        "    print(\"Predicted Disease:\", predicted_disease)\n",
        "except ValueError as e:\n",
        "    print(f\"Error: {e}\")"
      ]
    }
  ],
  "metadata": {
    "colab": {
      "provenance": []
    },
    "kernelspec": {
      "display_name": "Python 3",
      "name": "python3"
    },
    "language_info": {
      "name": "python"
    }
  },
  "nbformat": 4,
  "nbformat_minor": 0
}
